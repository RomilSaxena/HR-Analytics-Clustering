{
 "cells": [
  {
   "cell_type": "code",
   "execution_count": 81,
   "metadata": {},
   "outputs": [],
   "source": [
    "%config IPCompleter.greedy = True\n",
    "# supress warnings\n",
    "import warnings\n",
    "warnings.filterwarnings('ignore')\n",
    "\n",
    "# Importing all required packages\n",
    "import numpy as np\n",
    "import pandas as pd\n",
    "import researchpy as rp\n",
    "\n",
    "# Data viz lib\n",
    "import matplotlib.pyplot as plt\n",
    "import seaborn as sns\n",
    "%matplotlib inline\n",
    "from matplotlib.pyplot import xticks\n",
    "from scipy import stats"
   ]
  },
  {
   "cell_type": "code",
   "execution_count": 82,
   "metadata": {},
   "outputs": [
    {
     "data": {
      "text/html": [
       "<div>\n",
       "<style scoped>\n",
       "    .dataframe tbody tr th:only-of-type {\n",
       "        vertical-align: middle;\n",
       "    }\n",
       "\n",
       "    .dataframe tbody tr th {\n",
       "        vertical-align: top;\n",
       "    }\n",
       "\n",
       "    .dataframe thead th {\n",
       "        text-align: right;\n",
       "    }\n",
       "</style>\n",
       "<table border=\"1\" class=\"dataframe\">\n",
       "  <thead>\n",
       "    <tr style=\"text-align: right;\">\n",
       "      <th></th>\n",
       "      <th>Gender</th>\n",
       "      <th>RaceDesc</th>\n",
       "      <th>Position</th>\n",
       "      <th>MaritalDesc</th>\n",
       "      <th>Department</th>\n",
       "      <th>EmpSatisfaction</th>\n",
       "    </tr>\n",
       "  </thead>\n",
       "  <tbody>\n",
       "    <tr>\n",
       "      <th>0</th>\n",
       "      <td>M</td>\n",
       "      <td>White</td>\n",
       "      <td>Production Technician I</td>\n",
       "      <td>Single</td>\n",
       "      <td>Production</td>\n",
       "      <td>5</td>\n",
       "    </tr>\n",
       "    <tr>\n",
       "      <th>1</th>\n",
       "      <td>F</td>\n",
       "      <td>White</td>\n",
       "      <td>Production Technician II</td>\n",
       "      <td>Married</td>\n",
       "      <td>Production</td>\n",
       "      <td>3</td>\n",
       "    </tr>\n",
       "    <tr>\n",
       "      <th>2</th>\n",
       "      <td>F</td>\n",
       "      <td>White</td>\n",
       "      <td>Production Technician I</td>\n",
       "      <td>Married</td>\n",
       "      <td>Production</td>\n",
       "      <td>5</td>\n",
       "    </tr>\n",
       "    <tr>\n",
       "      <th>3</th>\n",
       "      <td>M</td>\n",
       "      <td>White</td>\n",
       "      <td>Production Manager</td>\n",
       "      <td>Divorced</td>\n",
       "      <td>Production</td>\n",
       "      <td>3</td>\n",
       "    </tr>\n",
       "    <tr>\n",
       "      <th>4</th>\n",
       "      <td>F</td>\n",
       "      <td>White</td>\n",
       "      <td>Production Technician I</td>\n",
       "      <td>Divorced</td>\n",
       "      <td>Production</td>\n",
       "      <td>4</td>\n",
       "    </tr>\n",
       "  </tbody>\n",
       "</table>\n",
       "</div>"
      ],
      "text/plain": [
       "  Gender RaceDesc                  Position MaritalDesc         Department  \\\n",
       "0     M     White   Production Technician I      Single  Production          \n",
       "1      F    White  Production Technician II     Married  Production          \n",
       "2      F    White   Production Technician I     Married  Production          \n",
       "3     M     White        Production Manager    Divorced  Production          \n",
       "4      F    White   Production Technician I    Divorced  Production          \n",
       "\n",
       "   EmpSatisfaction  \n",
       "0                5  \n",
       "1                3  \n",
       "2                5  \n",
       "3                3  \n",
       "4                4  "
      ]
     },
     "execution_count": 82,
     "metadata": {},
     "output_type": "execute_result"
    }
   ],
   "source": [
    "#Reading dataset\n",
    "data = pd.read_excel('HR+Diversity+problem.xlsx')\n",
    "data.head()"
   ]
  },
  {
   "cell_type": "code",
   "execution_count": 83,
   "metadata": {},
   "outputs": [
    {
     "name": "stdout",
     "output_type": "stream",
     "text": [
      "<class 'pandas.core.frame.DataFrame'>\n",
      "RangeIndex: 259 entries, 0 to 258\n",
      "Data columns (total 6 columns):\n",
      " #   Column           Non-Null Count  Dtype \n",
      "---  ------           --------------  ----- \n",
      " 0   Gender           259 non-null    object\n",
      " 1   RaceDesc         259 non-null    object\n",
      " 2   Position         259 non-null    object\n",
      " 3   MaritalDesc      259 non-null    object\n",
      " 4   Department       259 non-null    object\n",
      " 5   EmpSatisfaction  259 non-null    int64 \n",
      "dtypes: int64(1), object(5)\n",
      "memory usage: 12.3+ KB\n"
     ]
    }
   ],
   "source": [
    "data.info()"
   ]
  },
  {
   "cell_type": "code",
   "execution_count": 84,
   "metadata": {},
   "outputs": [],
   "source": [
    "# Importing Categorical Columns\n",
    "data_cat = data[['Gender','RaceDesc','Position','MaritalDesc','Department','EmpSatisfaction']]\n",
    "\n",
    "# Converting satisfaction into categorical variable.\n",
    "data_cat['EmpSatisfaction'] = data_cat['EmpSatisfaction'].astype('object',copy=False)"
   ]
  },
  {
   "cell_type": "code",
   "execution_count": 85,
   "metadata": {},
   "outputs": [
    {
     "name": "stdout",
     "output_type": "stream",
     "text": [
      "<class 'pandas.core.frame.DataFrame'>\n",
      "RangeIndex: 259 entries, 0 to 258\n",
      "Data columns (total 6 columns):\n",
      " #   Column           Non-Null Count  Dtype \n",
      "---  ------           --------------  ----- \n",
      " 0   Gender           259 non-null    object\n",
      " 1   RaceDesc         259 non-null    object\n",
      " 2   Position         259 non-null    object\n",
      " 3   MaritalDesc      259 non-null    object\n",
      " 4   Department       259 non-null    object\n",
      " 5   EmpSatisfaction  259 non-null    object\n",
      "dtypes: object(6)\n",
      "memory usage: 12.3+ KB\n"
     ]
    }
   ],
   "source": [
    "data_cat.info() #Finding the shape, checking for null values, DataTypes"
   ]
  },
  {
   "cell_type": "code",
   "execution_count": 86,
   "metadata": {},
   "outputs": [
    {
     "data": {
      "text/plain": [
       "Gender             0\n",
       "RaceDesc           0\n",
       "Position           0\n",
       "MaritalDesc        0\n",
       "Department         0\n",
       "EmpSatisfaction    0\n",
       "dtype: int64"
      ]
     },
     "execution_count": 86,
     "metadata": {},
     "output_type": "execute_result"
    }
   ],
   "source": [
    "data_cat.isnull().sum()"
   ]
  },
  {
   "cell_type": "code",
   "execution_count": 87,
   "metadata": {},
   "outputs": [
    {
     "data": {
      "text/html": [
       "<div>\n",
       "<style scoped>\n",
       "    .dataframe tbody tr th:only-of-type {\n",
       "        vertical-align: middle;\n",
       "    }\n",
       "\n",
       "    .dataframe tbody tr th {\n",
       "        vertical-align: top;\n",
       "    }\n",
       "\n",
       "    .dataframe thead th {\n",
       "        text-align: right;\n",
       "    }\n",
       "</style>\n",
       "<table border=\"1\" class=\"dataframe\">\n",
       "  <thead>\n",
       "    <tr style=\"text-align: right;\">\n",
       "      <th></th>\n",
       "      <th>Gender</th>\n",
       "      <th>RaceDesc</th>\n",
       "      <th>Position</th>\n",
       "      <th>MaritalDesc</th>\n",
       "      <th>Department</th>\n",
       "      <th>EmpSatisfaction</th>\n",
       "    </tr>\n",
       "  </thead>\n",
       "  <tbody>\n",
       "    <tr>\n",
       "      <th>0</th>\n",
       "      <td>M</td>\n",
       "      <td>White</td>\n",
       "      <td>Production Technician I</td>\n",
       "      <td>Single</td>\n",
       "      <td>Production</td>\n",
       "      <td>5</td>\n",
       "    </tr>\n",
       "    <tr>\n",
       "      <th>1</th>\n",
       "      <td>F</td>\n",
       "      <td>White</td>\n",
       "      <td>Production Technician II</td>\n",
       "      <td>Married</td>\n",
       "      <td>Production</td>\n",
       "      <td>3</td>\n",
       "    </tr>\n",
       "    <tr>\n",
       "      <th>2</th>\n",
       "      <td>F</td>\n",
       "      <td>White</td>\n",
       "      <td>Production Technician I</td>\n",
       "      <td>Married</td>\n",
       "      <td>Production</td>\n",
       "      <td>5</td>\n",
       "    </tr>\n",
       "    <tr>\n",
       "      <th>3</th>\n",
       "      <td>M</td>\n",
       "      <td>White</td>\n",
       "      <td>Production Manager</td>\n",
       "      <td>Divorced</td>\n",
       "      <td>Production</td>\n",
       "      <td>3</td>\n",
       "    </tr>\n",
       "    <tr>\n",
       "      <th>4</th>\n",
       "      <td>F</td>\n",
       "      <td>White</td>\n",
       "      <td>Production Technician I</td>\n",
       "      <td>Divorced</td>\n",
       "      <td>Production</td>\n",
       "      <td>4</td>\n",
       "    </tr>\n",
       "  </tbody>\n",
       "</table>\n",
       "</div>"
      ],
      "text/plain": [
       "  Gender RaceDesc                  Position MaritalDesc         Department  \\\n",
       "0     M     White   Production Technician I      Single  Production          \n",
       "1      F    White  Production Technician II     Married  Production          \n",
       "2      F    White   Production Technician I     Married  Production          \n",
       "3     M     White        Production Manager    Divorced  Production          \n",
       "4      F    White   Production Technician I    Divorced  Production          \n",
       "\n",
       "  EmpSatisfaction  \n",
       "0               5  \n",
       "1               3  \n",
       "2               5  \n",
       "3               3  \n",
       "4               4  "
      ]
     },
     "execution_count": 87,
     "metadata": {},
     "output_type": "execute_result"
    }
   ],
   "source": [
    "data_cat.head()"
   ]
  },
  {
   "cell_type": "markdown",
   "metadata": {},
   "source": [
    "# Question 1\n",
    "\n",
    "#### Analyse the different departments within the company and the diversity in them with respect to different races. \n",
    "#### Which race has been the most abundant in the company? Which department has low diversity? \n",
    "#### Summarise the insights derived and prospective actionables for the HR department on the basis of those insights. "
   ]
  },
  {
   "cell_type": "markdown",
   "metadata": {},
   "source": [
    "## Finding the count and percentage of employees in each Department"
   ]
  },
  {
   "cell_type": "markdown",
   "metadata": {},
   "source": [
    "### Doing Univariate analysis first on Department and Race"
   ]
  },
  {
   "cell_type": "code",
   "execution_count": 88,
   "metadata": {},
   "outputs": [
    {
     "data": {
      "text/plain": [
       "Production              201\n",
       "Sales                    26\n",
       "IT/IS                    23\n",
       "Software Engineering      9\n",
       "Name: Department, dtype: int64"
      ]
     },
     "execution_count": 88,
     "metadata": {},
     "output_type": "execute_result"
    }
   ],
   "source": [
    "data_cat['Department'].value_counts()"
   ]
  },
  {
   "cell_type": "code",
   "execution_count": 89,
   "metadata": {},
   "outputs": [
    {
     "data": {
      "text/plain": [
       "Production              77.606178\n",
       "Sales                   10.038610\n",
       "IT/IS                    8.880309\n",
       "Software Engineering     3.474903\n",
       "Name: Department, dtype: float64"
      ]
     },
     "execution_count": 89,
     "metadata": {},
     "output_type": "execute_result"
    }
   ],
   "source": [
    "data_cat['Department'].value_counts(normalize=True)*100"
   ]
  },
  {
   "cell_type": "code",
   "execution_count": 90,
   "metadata": {},
   "outputs": [
    {
     "data": {
      "text/plain": [
       "Text(0.5, 0, 'Department')"
      ]
     },
     "execution_count": 90,
     "metadata": {},
     "output_type": "execute_result"
    },
    {
     "data": {
      "image/png": "[encoded data removed]",
      "text/plain": [
       "<Figure size 432x288 with 1 Axes>"
      ]
     },
     "metadata": {
      "needs_background": "light"
     },
     "output_type": "display_data"
    }
   ],
   "source": [
    "(data_cat['Department'].value_counts(normalize=True)*100).plot(kind='bar',color=plt.cm.Paired(np.arange(len(data_cat))))\n",
    "plt.ylabel('% of Employees', fontweight='bold', color = 'Red', fontsize='14', horizontalalignment='center')\n",
    "plt.xlabel('Department', fontweight='bold', color = 'Red', fontsize='14', horizontalalignment='center')"
   ]
  },
  {
   "cell_type": "markdown",
   "metadata": {},
   "source": [
    "### We can see that Production Department has highest number of employees i.e 78%"
   ]
  },
  {
   "cell_type": "code",
   "execution_count": 91,
   "metadata": {},
   "outputs": [
    {
     "data": {
      "text/plain": [
       "array(['White', 'Two or more races', 'Asian', 'Black or African American'],\n",
       "      dtype=object)"
      ]
     },
     "execution_count": 91,
     "metadata": {},
     "output_type": "execute_result"
    }
   ],
   "source": [
    "data_cat.RaceDesc.unique()"
   ]
  },
  {
   "cell_type": "code",
   "execution_count": 92,
   "metadata": {},
   "outputs": [
    {
     "data": {
      "text/plain": [
       "White                        170\n",
       "Black or African American     44\n",
       "Asian                         28\n",
       "Two or more races             17\n",
       "Name: RaceDesc, dtype: int64"
      ]
     },
     "execution_count": 92,
     "metadata": {},
     "output_type": "execute_result"
    }
   ],
   "source": [
    "data_cat['RaceDesc'].value_counts()"
   ]
  },
  {
   "cell_type": "code",
   "execution_count": 93,
   "metadata": {},
   "outputs": [
    {
     "data": {
      "text/plain": [
       "White                        66.0\n",
       "Black or African American    17.0\n",
       "Asian                        11.0\n",
       "Two or more races             7.0\n",
       "Name: RaceDesc, dtype: float64"
      ]
     },
     "execution_count": 93,
     "metadata": {},
     "output_type": "execute_result"
    }
   ],
   "source": [
    "racePct = data_cat['RaceDesc'].value_counts(normalize=True)*100\n",
    "racePct = round(racePct)\n",
    "racePct"
   ]
  },
  {
   "cell_type": "code",
   "execution_count": 94,
   "metadata": {},
   "outputs": [
    {
     "data": {
      "text/plain": [
       "Text(0.5, 0, 'Race')"
      ]
     },
     "execution_count": 94,
     "metadata": {},
     "output_type": "execute_result"
    },
    {
     "data": {
      "image/png": "[encoded data removed]",
      "text/plain": [
       "<Figure size 432x288 with 1 Axes>"
      ]
     },
     "metadata": {
      "needs_background": "light"
     },
     "output_type": "display_data"
    }
   ],
   "source": [
    "racePct.plot(kind='bar',color=plt.cm.Paired(np.arange(len(data_cat))))\n",
    "plt.ylabel('% of Employees', fontweight='bold', color = 'Red', fontsize='14', horizontalalignment='center')\n",
    "plt.xlabel('Race', fontweight='bold', color = 'Red', fontsize='14', horizontalalignment='center')"
   ]
  },
  {
   "cell_type": "markdown",
   "metadata": {},
   "source": [
    "### We can see that White Race has highest number of employees i.e 68%"
   ]
  },
  {
   "cell_type": "markdown",
   "metadata": {},
   "source": [
    "## Finding count of employees with respect to Diversity in each Department . Analysing different departments within the company and the diversity in them with respect to different races"
   ]
  },
  {
   "cell_type": "markdown",
   "metadata": {},
   "source": [
    "## Doing BiVariate Analysis of Department and Race"
   ]
  },
  {
   "cell_type": "code",
   "execution_count": 95,
   "metadata": {
    "scrolled": false
   },
   "outputs": [
    {
     "data": {
      "text/html": [
       "<div>\n",
       "<style scoped>\n",
       "    .dataframe tbody tr th:only-of-type {\n",
       "        vertical-align: middle;\n",
       "    }\n",
       "\n",
       "    .dataframe tbody tr th {\n",
       "        vertical-align: top;\n",
       "    }\n",
       "\n",
       "    .dataframe thead th {\n",
       "        text-align: right;\n",
       "    }\n",
       "</style>\n",
       "<table border=\"1\" class=\"dataframe\">\n",
       "  <thead>\n",
       "    <tr style=\"text-align: right;\">\n",
       "      <th>RaceDesc</th>\n",
       "      <th>Asian</th>\n",
       "      <th>Black or African American</th>\n",
       "      <th>Two or more races</th>\n",
       "      <th>White</th>\n",
       "    </tr>\n",
       "    <tr>\n",
       "      <th>Department</th>\n",
       "      <th></th>\n",
       "      <th></th>\n",
       "      <th></th>\n",
       "      <th></th>\n",
       "    </tr>\n",
       "  </thead>\n",
       "  <tbody>\n",
       "    <tr>\n",
       "      <th>IT/IS</th>\n",
       "      <td>3.0</td>\n",
       "      <td>2.0</td>\n",
       "      <td>1.0</td>\n",
       "      <td>17.0</td>\n",
       "    </tr>\n",
       "    <tr>\n",
       "      <th>Production</th>\n",
       "      <td>22.0</td>\n",
       "      <td>31.0</td>\n",
       "      <td>10.0</td>\n",
       "      <td>138.0</td>\n",
       "    </tr>\n",
       "    <tr>\n",
       "      <th>Sales</th>\n",
       "      <td>1.0</td>\n",
       "      <td>8.0</td>\n",
       "      <td>6.0</td>\n",
       "      <td>11.0</td>\n",
       "    </tr>\n",
       "    <tr>\n",
       "      <th>Software Engineering</th>\n",
       "      <td>2.0</td>\n",
       "      <td>3.0</td>\n",
       "      <td>NaN</td>\n",
       "      <td>4.0</td>\n",
       "    </tr>\n",
       "  </tbody>\n",
       "</table>\n",
       "</div>"
      ],
      "text/plain": [
       "RaceDesc              Asian  Black or African American  Two or more races  \\\n",
       "Department                                                                  \n",
       "IT/IS                   3.0                        2.0                1.0   \n",
       "Production             22.0                       31.0               10.0   \n",
       "Sales                   1.0                        8.0                6.0   \n",
       "Software Engineering    2.0                        3.0                NaN   \n",
       "\n",
       "RaceDesc              White  \n",
       "Department                   \n",
       "IT/IS                  17.0  \n",
       "Production            138.0  \n",
       "Sales                  11.0  \n",
       "Software Engineering    4.0  "
      ]
     },
     "execution_count": 95,
     "metadata": {},
     "output_type": "execute_result"
    }
   ],
   "source": [
    "departmentWRTRace = data_cat.groupby(['Department']).RaceDesc.value_counts().unstack()\n",
    "departmentWRTRace"
   ]
  },
  {
   "cell_type": "code",
   "execution_count": 96,
   "metadata": {
    "scrolled": true
   },
   "outputs": [
    {
     "data": {
      "text/html": [
       "<div>\n",
       "<style scoped>\n",
       "    .dataframe tbody tr th:only-of-type {\n",
       "        vertical-align: middle;\n",
       "    }\n",
       "\n",
       "    .dataframe tbody tr th {\n",
       "        vertical-align: top;\n",
       "    }\n",
       "\n",
       "    .dataframe thead th {\n",
       "        text-align: right;\n",
       "    }\n",
       "</style>\n",
       "<table border=\"1\" class=\"dataframe\">\n",
       "  <thead>\n",
       "    <tr style=\"text-align: right;\">\n",
       "      <th>RaceDesc</th>\n",
       "      <th>Asian</th>\n",
       "      <th>Black or African American</th>\n",
       "      <th>Two or more races</th>\n",
       "      <th>White</th>\n",
       "    </tr>\n",
       "    <tr>\n",
       "      <th>Department</th>\n",
       "      <th></th>\n",
       "      <th></th>\n",
       "      <th></th>\n",
       "      <th></th>\n",
       "    </tr>\n",
       "  </thead>\n",
       "  <tbody>\n",
       "    <tr>\n",
       "      <th>IT/IS</th>\n",
       "      <td>13.0</td>\n",
       "      <td>9.0</td>\n",
       "      <td>4.0</td>\n",
       "      <td>74.0</td>\n",
       "    </tr>\n",
       "    <tr>\n",
       "      <th>Production</th>\n",
       "      <td>11.0</td>\n",
       "      <td>15.0</td>\n",
       "      <td>5.0</td>\n",
       "      <td>69.0</td>\n",
       "    </tr>\n",
       "    <tr>\n",
       "      <th>Sales</th>\n",
       "      <td>4.0</td>\n",
       "      <td>31.0</td>\n",
       "      <td>23.0</td>\n",
       "      <td>42.0</td>\n",
       "    </tr>\n",
       "    <tr>\n",
       "      <th>Software Engineering</th>\n",
       "      <td>22.0</td>\n",
       "      <td>33.0</td>\n",
       "      <td>NaN</td>\n",
       "      <td>44.0</td>\n",
       "    </tr>\n",
       "  </tbody>\n",
       "</table>\n",
       "</div>"
      ],
      "text/plain": [
       "RaceDesc              Asian  Black or African American  Two or more races  \\\n",
       "Department                                                                  \n",
       "IT/IS                  13.0                        9.0                4.0   \n",
       "Production             11.0                       15.0                5.0   \n",
       "Sales                   4.0                       31.0               23.0   \n",
       "Software Engineering   22.0                       33.0                NaN   \n",
       "\n",
       "RaceDesc              White  \n",
       "Department                   \n",
       "IT/IS                  74.0  \n",
       "Production             69.0  \n",
       "Sales                  42.0  \n",
       "Software Engineering   44.0  "
      ]
     },
     "execution_count": 96,
     "metadata": {},
     "output_type": "execute_result"
    }
   ],
   "source": [
    "deptWisePctRace = (round(data_cat.groupby(['Department']).\n",
    "                         RaceDesc.value_counts(normalize=True)*100)).unstack()\n",
    "deptWisePctRace"
   ]
  },
  {
   "cell_type": "code",
   "execution_count": 97,
   "metadata": {},
   "outputs": [
    {
     "data": {
      "text/plain": [
       "<matplotlib.axes._subplots.AxesSubplot at 0x96641333c8>"
      ]
     },
     "execution_count": 97,
     "metadata": {},
     "output_type": "execute_result"
    },
    {
     "data": {
      "image/png": "[encoded data removed]",
      "text/plain": [
       "<Figure size 720x504 with 1 Axes>"
      ]
     },
     "metadata": {
      "needs_background": "light"
     },
     "output_type": "display_data"
    }
   ],
   "source": [
    "fig, ax = plt.subplots(figsize=(10,7))\n",
    "deptWisePctRace.plot.bar(ax=ax)"
   ]
  },
  {
   "cell_type": "code",
   "execution_count": 98,
   "metadata": {},
   "outputs": [
    {
     "data": {
      "text/plain": [
       "<matplotlib.axes._subplots.AxesSubplot at 0x96641c1248>"
      ]
     },
     "execution_count": 98,
     "metadata": {},
     "output_type": "execute_result"
    },
    {
     "data": {
      "image/png": "[encoded data removed]",
      "text/plain": [
       "<Figure size 1080x432 with 1 Axes>"
      ]
     },
     "metadata": {
      "needs_background": "light"
     },
     "output_type": "display_data"
    }
   ],
   "source": [
    "deptWisePctRace.plot(kind='bar', stacked=True, figsize=[15,6], colormap='RdYlGn')"
   ]
  },
  {
   "cell_type": "markdown",
   "metadata": {},
   "source": [
    "## Finding the significant relationship between Department and Race using Chi Squared Test"
   ]
  },
  {
   "cell_type": "code",
   "execution_count": 99,
   "metadata": {},
   "outputs": [
    {
     "data": {
      "text/html": [
       "<div>\n",
       "<style scoped>\n",
       "    .dataframe tbody tr th:only-of-type {\n",
       "        vertical-align: middle;\n",
       "    }\n",
       "\n",
       "    .dataframe tbody tr th {\n",
       "        vertical-align: top;\n",
       "    }\n",
       "\n",
       "    .dataframe thead th {\n",
       "        text-align: right;\n",
       "    }\n",
       "</style>\n",
       "<table border=\"1\" class=\"dataframe\">\n",
       "  <thead>\n",
       "    <tr style=\"text-align: right;\">\n",
       "      <th>RaceDesc</th>\n",
       "      <th>Asian</th>\n",
       "      <th>Black or African American</th>\n",
       "      <th>Two or more races</th>\n",
       "      <th>White</th>\n",
       "    </tr>\n",
       "    <tr>\n",
       "      <th>Department</th>\n",
       "      <th></th>\n",
       "      <th></th>\n",
       "      <th></th>\n",
       "      <th></th>\n",
       "    </tr>\n",
       "  </thead>\n",
       "  <tbody>\n",
       "    <tr>\n",
       "      <th>IT/IS</th>\n",
       "      <td>3</td>\n",
       "      <td>2</td>\n",
       "      <td>1</td>\n",
       "      <td>17</td>\n",
       "    </tr>\n",
       "    <tr>\n",
       "      <th>Production</th>\n",
       "      <td>22</td>\n",
       "      <td>31</td>\n",
       "      <td>10</td>\n",
       "      <td>138</td>\n",
       "    </tr>\n",
       "    <tr>\n",
       "      <th>Sales</th>\n",
       "      <td>1</td>\n",
       "      <td>8</td>\n",
       "      <td>6</td>\n",
       "      <td>11</td>\n",
       "    </tr>\n",
       "    <tr>\n",
       "      <th>Software Engineering</th>\n",
       "      <td>2</td>\n",
       "      <td>3</td>\n",
       "      <td>0</td>\n",
       "      <td>4</td>\n",
       "    </tr>\n",
       "  </tbody>\n",
       "</table>\n",
       "</div>"
      ],
      "text/plain": [
       "RaceDesc              Asian  Black or African American  Two or more races  \\\n",
       "Department                                                                  \n",
       "IT/IS                     3                          2                  1   \n",
       "Production               22                         31                 10   \n",
       "Sales                     1                          8                  6   \n",
       "Software Engineering      2                          3                  0   \n",
       "\n",
       "RaceDesc              White  \n",
       "Department                   \n",
       "IT/IS                    17  \n",
       "Production              138  \n",
       "Sales                    11  \n",
       "Software Engineering      4  "
      ]
     },
     "execution_count": 99,
     "metadata": {},
     "output_type": "execute_result"
    }
   ],
   "source": [
    "crosstabDeptandRace = pd.crosstab(data_cat[\"Department\"], data_cat[\"RaceDesc\"])\n",
    "crosstabDeptandRace"
   ]
  },
  {
   "cell_type": "code",
   "execution_count": 100,
   "metadata": {},
   "outputs": [
    {
     "data": {
      "text/plain": [
       "(23.53107638216907,\n",
       " 0.005107596384620323,\n",
       " 9,\n",
       " array([[  2.48648649,   3.90733591,   1.50965251,  15.0965251 ],\n",
       "        [ 21.72972973,  34.14671815,  13.19305019, 131.93050193],\n",
       "        [  2.81081081,   4.41698842,   1.70656371,  17.06563707],\n",
       "        [  0.97297297,   1.52895753,   0.59073359,   5.90733591]]))"
      ]
     },
     "execution_count": 100,
     "metadata": {},
     "output_type": "execute_result"
    }
   ],
   "source": [
    "stats.chi2_contingency(crosstabDeptandRace)"
   ]
  },
  {
   "cell_type": "code",
   "execution_count": 101,
   "metadata": {},
   "outputs": [
    {
     "data": {
      "text/html": [
       "<div>\n",
       "<style scoped>\n",
       "    .dataframe tbody tr th:only-of-type {\n",
       "        vertical-align: middle;\n",
       "    }\n",
       "\n",
       "    .dataframe tbody tr th {\n",
       "        vertical-align: top;\n",
       "    }\n",
       "\n",
       "    .dataframe thead tr th {\n",
       "        text-align: left;\n",
       "    }\n",
       "\n",
       "    .dataframe thead tr:last-of-type th {\n",
       "        text-align: right;\n",
       "    }\n",
       "</style>\n",
       "<table border=\"1\" class=\"dataframe\">\n",
       "  <thead>\n",
       "    <tr>\n",
       "      <th></th>\n",
       "      <th colspan=\"5\" halign=\"left\">RaceDesc</th>\n",
       "    </tr>\n",
       "    <tr>\n",
       "      <th>RaceDesc</th>\n",
       "      <th>Asian</th>\n",
       "      <th>Black or African American</th>\n",
       "      <th>Two or more races</th>\n",
       "      <th>White</th>\n",
       "      <th>All</th>\n",
       "    </tr>\n",
       "    <tr>\n",
       "      <th>Department</th>\n",
       "      <th></th>\n",
       "      <th></th>\n",
       "      <th></th>\n",
       "      <th></th>\n",
       "      <th></th>\n",
       "    </tr>\n",
       "  </thead>\n",
       "  <tbody>\n",
       "    <tr>\n",
       "      <th>IT/IS</th>\n",
       "      <td>1.16</td>\n",
       "      <td>0.77</td>\n",
       "      <td>0.39</td>\n",
       "      <td>6.56</td>\n",
       "      <td>8.88</td>\n",
       "    </tr>\n",
       "    <tr>\n",
       "      <th>Production</th>\n",
       "      <td>8.49</td>\n",
       "      <td>11.97</td>\n",
       "      <td>3.86</td>\n",
       "      <td>53.28</td>\n",
       "      <td>77.61</td>\n",
       "    </tr>\n",
       "    <tr>\n",
       "      <th>Sales</th>\n",
       "      <td>0.39</td>\n",
       "      <td>3.09</td>\n",
       "      <td>2.32</td>\n",
       "      <td>4.25</td>\n",
       "      <td>10.04</td>\n",
       "    </tr>\n",
       "    <tr>\n",
       "      <th>Software Engineering</th>\n",
       "      <td>0.77</td>\n",
       "      <td>1.16</td>\n",
       "      <td>0.00</td>\n",
       "      <td>1.54</td>\n",
       "      <td>3.47</td>\n",
       "    </tr>\n",
       "    <tr>\n",
       "      <th>All</th>\n",
       "      <td>10.81</td>\n",
       "      <td>16.99</td>\n",
       "      <td>6.56</td>\n",
       "      <td>65.64</td>\n",
       "      <td>100.00</td>\n",
       "    </tr>\n",
       "  </tbody>\n",
       "</table>\n",
       "</div>"
      ],
      "text/plain": [
       "                     RaceDesc                                              \\\n",
       "RaceDesc                Asian Black or African American Two or more races   \n",
       "Department                                                                  \n",
       "IT/IS                    1.16                      0.77              0.39   \n",
       "Production               8.49                     11.97              3.86   \n",
       "Sales                    0.39                      3.09              2.32   \n",
       "Software Engineering     0.77                      1.16              0.00   \n",
       "All                     10.81                     16.99              6.56   \n",
       "\n",
       "                                     \n",
       "RaceDesc              White     All  \n",
       "Department                           \n",
       "IT/IS                  6.56    8.88  \n",
       "Production            53.28   77.61  \n",
       "Sales                  4.25   10.04  \n",
       "Software Engineering   1.54    3.47  \n",
       "All                   65.64  100.00  "
      ]
     },
     "execution_count": 101,
     "metadata": {},
     "output_type": "execute_result"
    }
   ],
   "source": [
    "crosstabDeptandRace, test_resultsDeptandRace , expected = rp.crosstab(data_cat[\"Department\"], data_cat[\"RaceDesc\"],test= \"chi-square\",\n",
    "                                               expected_freqs= True,\n",
    "                                               prop= \"cell\")\n",
    "crosstabDeptandRace"
   ]
  },
  {
   "cell_type": "code",
   "execution_count": 102,
   "metadata": {},
   "outputs": [
    {
     "data": {
      "text/html": [
       "<div>\n",
       "<style scoped>\n",
       "    .dataframe tbody tr th:only-of-type {\n",
       "        vertical-align: middle;\n",
       "    }\n",
       "\n",
       "    .dataframe tbody tr th {\n",
       "        vertical-align: top;\n",
       "    }\n",
       "\n",
       "    .dataframe thead th {\n",
       "        text-align: right;\n",
       "    }\n",
       "</style>\n",
       "<table border=\"1\" class=\"dataframe\">\n",
       "  <thead>\n",
       "    <tr style=\"text-align: right;\">\n",
       "      <th></th>\n",
       "      <th>Chi-square test</th>\n",
       "      <th>results</th>\n",
       "    </tr>\n",
       "  </thead>\n",
       "  <tbody>\n",
       "    <tr>\n",
       "      <th>0</th>\n",
       "      <td>Pearson Chi-square ( 9.0) =</td>\n",
       "      <td>23.5311</td>\n",
       "    </tr>\n",
       "    <tr>\n",
       "      <th>1</th>\n",
       "      <td>p-value =</td>\n",
       "      <td>0.0051</td>\n",
       "    </tr>\n",
       "    <tr>\n",
       "      <th>2</th>\n",
       "      <td>Cramer's V =</td>\n",
       "      <td>0.1740</td>\n",
       "    </tr>\n",
       "  </tbody>\n",
       "</table>\n",
       "</div>"
      ],
      "text/plain": [
       "                Chi-square test  results\n",
       "0  Pearson Chi-square ( 9.0) =   23.5311\n",
       "1                    p-value =    0.0051\n",
       "2                 Cramer's V =    0.1740"
      ]
     },
     "execution_count": 102,
     "metadata": {},
     "output_type": "execute_result"
    }
   ],
   "source": [
    "test_resultsDeptandRace"
   ]
  },
  {
   "cell_type": "code",
   "execution_count": null,
   "metadata": {},
   "outputs": [],
   "source": []
  },
  {
   "cell_type": "code",
   "execution_count": null,
   "metadata": {},
   "outputs": [],
   "source": []
  },
  {
   "cell_type": "markdown",
   "metadata": {},
   "source": [
    "# Question 2\n",
    "### Analyse the distribution of people based on gender across the different positions of the company. Which position has the highest female to male ratio and which position has a ratio nearing 1? Summarise the insights derived and prospective actionables for the HR department on the basis of those insights. (10 Marks)\n"
   ]
  },
  {
   "cell_type": "code",
   "execution_count": 103,
   "metadata": {
    "scrolled": true
   },
   "outputs": [
    {
     "data": {
      "text/html": [
       "<div>\n",
       "<style scoped>\n",
       "    .dataframe tbody tr th:only-of-type {\n",
       "        vertical-align: middle;\n",
       "    }\n",
       "\n",
       "    .dataframe tbody tr th {\n",
       "        vertical-align: top;\n",
       "    }\n",
       "\n",
       "    .dataframe thead th {\n",
       "        text-align: right;\n",
       "    }\n",
       "</style>\n",
       "<table border=\"1\" class=\"dataframe\">\n",
       "  <thead>\n",
       "    <tr style=\"text-align: right;\">\n",
       "      <th></th>\n",
       "      <th>Gender</th>\n",
       "      <th>RaceDesc</th>\n",
       "      <th>Position</th>\n",
       "      <th>MaritalDesc</th>\n",
       "      <th>Department</th>\n",
       "      <th>EmpSatisfaction</th>\n",
       "    </tr>\n",
       "  </thead>\n",
       "  <tbody>\n",
       "    <tr>\n",
       "      <th>0</th>\n",
       "      <td>M</td>\n",
       "      <td>White</td>\n",
       "      <td>Production Technician I</td>\n",
       "      <td>Single</td>\n",
       "      <td>Production</td>\n",
       "      <td>5</td>\n",
       "    </tr>\n",
       "    <tr>\n",
       "      <th>1</th>\n",
       "      <td>F</td>\n",
       "      <td>White</td>\n",
       "      <td>Production Technician II</td>\n",
       "      <td>Married</td>\n",
       "      <td>Production</td>\n",
       "      <td>3</td>\n",
       "    </tr>\n",
       "    <tr>\n",
       "      <th>2</th>\n",
       "      <td>F</td>\n",
       "      <td>White</td>\n",
       "      <td>Production Technician I</td>\n",
       "      <td>Married</td>\n",
       "      <td>Production</td>\n",
       "      <td>5</td>\n",
       "    </tr>\n",
       "    <tr>\n",
       "      <th>3</th>\n",
       "      <td>M</td>\n",
       "      <td>White</td>\n",
       "      <td>Production Manager</td>\n",
       "      <td>Divorced</td>\n",
       "      <td>Production</td>\n",
       "      <td>3</td>\n",
       "    </tr>\n",
       "    <tr>\n",
       "      <th>4</th>\n",
       "      <td>F</td>\n",
       "      <td>White</td>\n",
       "      <td>Production Technician I</td>\n",
       "      <td>Divorced</td>\n",
       "      <td>Production</td>\n",
       "      <td>4</td>\n",
       "    </tr>\n",
       "  </tbody>\n",
       "</table>\n",
       "</div>"
      ],
      "text/plain": [
       "  Gender RaceDesc                  Position MaritalDesc         Department  \\\n",
       "0     M     White   Production Technician I      Single  Production          \n",
       "1      F    White  Production Technician II     Married  Production          \n",
       "2      F    White   Production Technician I     Married  Production          \n",
       "3     M     White        Production Manager    Divorced  Production          \n",
       "4      F    White   Production Technician I    Divorced  Production          \n",
       "\n",
       "  EmpSatisfaction  \n",
       "0               5  \n",
       "1               3  \n",
       "2               5  \n",
       "3               3  \n",
       "4               4  "
      ]
     },
     "execution_count": 103,
     "metadata": {},
     "output_type": "execute_result"
    }
   ],
   "source": [
    "data_cat.head()\n"
   ]
  },
  {
   "cell_type": "code",
   "execution_count": 104,
   "metadata": {
    "scrolled": true
   },
   "outputs": [
    {
     "data": {
      "text/plain": [
       "Production Technician I     134\n",
       "Production Technician II     54\n",
       "Area Sales Manager           26\n",
       "Production Manager           13\n",
       "Software Engineer             9\n",
       "IT Support                    8\n",
       "Network Engineer              5\n",
       "Database Administrator        5\n",
       "Sr. Network Engineer          5\n",
       "Name: Position, dtype: int64"
      ]
     },
     "execution_count": 104,
     "metadata": {},
     "output_type": "execute_result"
    }
   ],
   "source": [
    "data_cat['Position'].value_counts()"
   ]
  },
  {
   "cell_type": "code",
   "execution_count": 105,
   "metadata": {},
   "outputs": [
    {
     "data": {
      "text/plain": [
       "Production Technician I     52.0\n",
       "Production Technician II    21.0\n",
       "Area Sales Manager          10.0\n",
       "Production Manager           5.0\n",
       "Software Engineer            3.0\n",
       "IT Support                   3.0\n",
       "Network Engineer             2.0\n",
       "Database Administrator       2.0\n",
       "Sr. Network Engineer         2.0\n",
       "Name: Position, dtype: float64"
      ]
     },
     "execution_count": 105,
     "metadata": {},
     "output_type": "execute_result"
    }
   ],
   "source": [
    "round(data_cat['Position'].value_counts(normalize = True)*100)"
   ]
  },
  {
   "cell_type": "code",
   "execution_count": 106,
   "metadata": {
    "scrolled": true
   },
   "outputs": [
    {
     "data": {
      "text/plain": [
       "<matplotlib.axes._subplots.AxesSubplot at 0x9664486408>"
      ]
     },
     "execution_count": 106,
     "metadata": {},
     "output_type": "execute_result"
    },
    {
     "data": {
      "image/png": "[encoded data removed]",
      "text/plain": [
       "<Figure size 432x288 with 1 Axes>"
      ]
     },
     "metadata": {
      "needs_background": "light"
     },
     "output_type": "display_data"
    }
   ],
   "source": [
    "round(data_cat['Position'].value_counts(normalize = True)*100).plot.barh() "
   ]
  },
  {
   "cell_type": "code",
   "execution_count": 107,
   "metadata": {
    "scrolled": true
   },
   "outputs": [
    {
     "data": {
      "text/plain": [
       "array(['M ', 'F'], dtype=object)"
      ]
     },
     "execution_count": 107,
     "metadata": {},
     "output_type": "execute_result"
    }
   ],
   "source": [
    "data_cat.Gender.unique()"
   ]
  },
  {
   "cell_type": "code",
   "execution_count": 108,
   "metadata": {},
   "outputs": [],
   "source": [
    "data_cat['Gender'] = data_cat['Gender'].str.strip()"
   ]
  },
  {
   "cell_type": "code",
   "execution_count": 109,
   "metadata": {
    "scrolled": true
   },
   "outputs": [
    {
     "data": {
      "text/plain": [
       "F    154\n",
       "M    105\n",
       "Name: Gender, dtype: int64"
      ]
     },
     "execution_count": 109,
     "metadata": {},
     "output_type": "execute_result"
    }
   ],
   "source": [
    "data_cat['Gender'].value_counts()"
   ]
  },
  {
   "cell_type": "code",
   "execution_count": 110,
   "metadata": {},
   "outputs": [
    {
     "data": {
      "text/plain": [
       "F    59.0\n",
       "M    41.0\n",
       "Name: Gender, dtype: float64"
      ]
     },
     "execution_count": 110,
     "metadata": {},
     "output_type": "execute_result"
    }
   ],
   "source": [
    "round(data_cat['Gender'].value_counts(normalize = True)*100)"
   ]
  },
  {
   "cell_type": "code",
   "execution_count": 111,
   "metadata": {},
   "outputs": [
    {
     "data": {
      "image/png": "[encoded data removed]",
      "text/plain": [
       "<Figure size 432x288 with 1 Axes>"
      ]
     },
     "metadata": {},
     "output_type": "display_data"
    }
   ],
   "source": [
    "colors = ['Pink', 'Blue']\n",
    "labels = ['Female','Male']\n",
    "plt.pie(data_cat.Gender.value_counts(normalize=True), \n",
    "        labels = labels, colors=colors, startangle=360, autopct='%.1f%%')\n",
    "plt.show()"
   ]
  },
  {
   "cell_type": "code",
   "execution_count": 112,
   "metadata": {},
   "outputs": [
    {
     "data": {
      "text/html": [
       "<div>\n",
       "<style scoped>\n",
       "    .dataframe tbody tr th:only-of-type {\n",
       "        vertical-align: middle;\n",
       "    }\n",
       "\n",
       "    .dataframe tbody tr th {\n",
       "        vertical-align: top;\n",
       "    }\n",
       "\n",
       "    .dataframe thead th {\n",
       "        text-align: right;\n",
       "    }\n",
       "</style>\n",
       "<table border=\"1\" class=\"dataframe\">\n",
       "  <thead>\n",
       "    <tr style=\"text-align: right;\">\n",
       "      <th>Position</th>\n",
       "      <th>Area Sales Manager</th>\n",
       "      <th>Database Administrator</th>\n",
       "      <th>IT Support</th>\n",
       "      <th>Network Engineer</th>\n",
       "      <th>Production Manager</th>\n",
       "      <th>Production Technician I</th>\n",
       "      <th>Production Technician II</th>\n",
       "      <th>Software Engineer</th>\n",
       "      <th>Sr. Network Engineer</th>\n",
       "    </tr>\n",
       "    <tr>\n",
       "      <th>Gender</th>\n",
       "      <th></th>\n",
       "      <th></th>\n",
       "      <th></th>\n",
       "      <th></th>\n",
       "      <th></th>\n",
       "      <th></th>\n",
       "      <th></th>\n",
       "      <th></th>\n",
       "      <th></th>\n",
       "    </tr>\n",
       "  </thead>\n",
       "  <tbody>\n",
       "    <tr>\n",
       "      <th>F</th>\n",
       "      <td>12</td>\n",
       "      <td>4</td>\n",
       "      <td>5</td>\n",
       "      <td>2</td>\n",
       "      <td>6</td>\n",
       "      <td>82</td>\n",
       "      <td>35</td>\n",
       "      <td>6</td>\n",
       "      <td>2</td>\n",
       "    </tr>\n",
       "    <tr>\n",
       "      <th>M</th>\n",
       "      <td>14</td>\n",
       "      <td>1</td>\n",
       "      <td>3</td>\n",
       "      <td>3</td>\n",
       "      <td>7</td>\n",
       "      <td>52</td>\n",
       "      <td>19</td>\n",
       "      <td>3</td>\n",
       "      <td>3</td>\n",
       "    </tr>\n",
       "  </tbody>\n",
       "</table>\n",
       "</div>"
      ],
      "text/plain": [
       "Position  Area Sales Manager  Database Administrator  IT Support  \\\n",
       "Gender                                                             \n",
       "F                         12                       4           5   \n",
       "M                         14                       1           3   \n",
       "\n",
       "Position  Network Engineer  Production Manager  Production Technician I  \\\n",
       "Gender                                                                    \n",
       "F                        2                   6                       82   \n",
       "M                        3                   7                       52   \n",
       "\n",
       "Position  Production Technician II  Software Engineer  Sr. Network Engineer  \n",
       "Gender                                                                       \n",
       "F                               35                  6                     2  \n",
       "M                               19                  3                     3  "
      ]
     },
     "execution_count": 112,
     "metadata": {},
     "output_type": "execute_result"
    }
   ],
   "source": [
    "GenderWRTPos = data_cat.groupby(['Gender']).Position.value_counts().unstack()\n",
    "GenderWRTPos"
   ]
  },
  {
   "cell_type": "code",
   "execution_count": 113,
   "metadata": {},
   "outputs": [
    {
     "data": {
      "text/html": [
       "<div>\n",
       "<style scoped>\n",
       "    .dataframe tbody tr th:only-of-type {\n",
       "        vertical-align: middle;\n",
       "    }\n",
       "\n",
       "    .dataframe tbody tr th {\n",
       "        vertical-align: top;\n",
       "    }\n",
       "\n",
       "    .dataframe thead th {\n",
       "        text-align: right;\n",
       "    }\n",
       "</style>\n",
       "<table border=\"1\" class=\"dataframe\">\n",
       "  <thead>\n",
       "    <tr style=\"text-align: right;\">\n",
       "      <th>Gender</th>\n",
       "      <th>F</th>\n",
       "      <th>M</th>\n",
       "    </tr>\n",
       "    <tr>\n",
       "      <th>Position</th>\n",
       "      <th></th>\n",
       "      <th></th>\n",
       "    </tr>\n",
       "  </thead>\n",
       "  <tbody>\n",
       "    <tr>\n",
       "      <th>Area Sales Manager</th>\n",
       "      <td>12</td>\n",
       "      <td>14</td>\n",
       "    </tr>\n",
       "    <tr>\n",
       "      <th>Database Administrator</th>\n",
       "      <td>4</td>\n",
       "      <td>1</td>\n",
       "    </tr>\n",
       "    <tr>\n",
       "      <th>IT Support</th>\n",
       "      <td>5</td>\n",
       "      <td>3</td>\n",
       "    </tr>\n",
       "    <tr>\n",
       "      <th>Network Engineer</th>\n",
       "      <td>2</td>\n",
       "      <td>3</td>\n",
       "    </tr>\n",
       "    <tr>\n",
       "      <th>Production Manager</th>\n",
       "      <td>6</td>\n",
       "      <td>7</td>\n",
       "    </tr>\n",
       "    <tr>\n",
       "      <th>Production Technician I</th>\n",
       "      <td>82</td>\n",
       "      <td>52</td>\n",
       "    </tr>\n",
       "    <tr>\n",
       "      <th>Production Technician II</th>\n",
       "      <td>35</td>\n",
       "      <td>19</td>\n",
       "    </tr>\n",
       "    <tr>\n",
       "      <th>Software Engineer</th>\n",
       "      <td>6</td>\n",
       "      <td>3</td>\n",
       "    </tr>\n",
       "    <tr>\n",
       "      <th>Sr. Network Engineer</th>\n",
       "      <td>2</td>\n",
       "      <td>3</td>\n",
       "    </tr>\n",
       "  </tbody>\n",
       "</table>\n",
       "</div>"
      ],
      "text/plain": [
       "Gender                     F   M\n",
       "Position                        \n",
       "Area Sales Manager        12  14\n",
       "Database Administrator     4   1\n",
       "IT Support                 5   3\n",
       "Network Engineer           2   3\n",
       "Production Manager         6   7\n",
       "Production Technician I   82  52\n",
       "Production Technician II  35  19\n",
       "Software Engineer          6   3\n",
       "Sr. Network Engineer       2   3"
      ]
     },
     "execution_count": 113,
     "metadata": {},
     "output_type": "execute_result"
    }
   ],
   "source": [
    "positionsWRTGender = data_cat.groupby(['Position']).Gender.value_counts().unstack()\n",
    "positionsWRTGender"
   ]
  },
  {
   "cell_type": "code",
   "execution_count": 114,
   "metadata": {},
   "outputs": [
    {
     "data": {
      "text/html": [
       "<div>\n",
       "<style scoped>\n",
       "    .dataframe tbody tr th:only-of-type {\n",
       "        vertical-align: middle;\n",
       "    }\n",
       "\n",
       "    .dataframe tbody tr th {\n",
       "        vertical-align: top;\n",
       "    }\n",
       "\n",
       "    .dataframe thead th {\n",
       "        text-align: right;\n",
       "    }\n",
       "</style>\n",
       "<table border=\"1\" class=\"dataframe\">\n",
       "  <thead>\n",
       "    <tr style=\"text-align: right;\">\n",
       "      <th>Gender</th>\n",
       "      <th>F</th>\n",
       "      <th>M</th>\n",
       "    </tr>\n",
       "    <tr>\n",
       "      <th>Position</th>\n",
       "      <th></th>\n",
       "      <th></th>\n",
       "    </tr>\n",
       "  </thead>\n",
       "  <tbody>\n",
       "    <tr>\n",
       "      <th>Area Sales Manager</th>\n",
       "      <td>46.0</td>\n",
       "      <td>54.0</td>\n",
       "    </tr>\n",
       "    <tr>\n",
       "      <th>Database Administrator</th>\n",
       "      <td>80.0</td>\n",
       "      <td>20.0</td>\n",
       "    </tr>\n",
       "    <tr>\n",
       "      <th>IT Support</th>\n",
       "      <td>62.0</td>\n",
       "      <td>38.0</td>\n",
       "    </tr>\n",
       "    <tr>\n",
       "      <th>Network Engineer</th>\n",
       "      <td>40.0</td>\n",
       "      <td>60.0</td>\n",
       "    </tr>\n",
       "    <tr>\n",
       "      <th>Production Manager</th>\n",
       "      <td>46.0</td>\n",
       "      <td>54.0</td>\n",
       "    </tr>\n",
       "    <tr>\n",
       "      <th>Production Technician I</th>\n",
       "      <td>61.0</td>\n",
       "      <td>39.0</td>\n",
       "    </tr>\n",
       "    <tr>\n",
       "      <th>Production Technician II</th>\n",
       "      <td>65.0</td>\n",
       "      <td>35.0</td>\n",
       "    </tr>\n",
       "    <tr>\n",
       "      <th>Software Engineer</th>\n",
       "      <td>67.0</td>\n",
       "      <td>33.0</td>\n",
       "    </tr>\n",
       "    <tr>\n",
       "      <th>Sr. Network Engineer</th>\n",
       "      <td>40.0</td>\n",
       "      <td>60.0</td>\n",
       "    </tr>\n",
       "  </tbody>\n",
       "</table>\n",
       "</div>"
      ],
      "text/plain": [
       "Gender                       F     M\n",
       "Position                            \n",
       "Area Sales Manager        46.0  54.0\n",
       "Database Administrator    80.0  20.0\n",
       "IT Support                62.0  38.0\n",
       "Network Engineer          40.0  60.0\n",
       "Production Manager        46.0  54.0\n",
       "Production Technician I   61.0  39.0\n",
       "Production Technician II  65.0  35.0\n",
       "Software Engineer         67.0  33.0\n",
       "Sr. Network Engineer      40.0  60.0"
      ]
     },
     "execution_count": 114,
     "metadata": {},
     "output_type": "execute_result"
    }
   ],
   "source": [
    "positionsWRTGenderPct = data_cat.groupby(['Position']).Gender.value_counts(normalize = True).unstack()\n",
    "positionsWRTGenderPct = round(positionsWRTGenderPct*100)\n",
    "positionsWRTGenderPct"
   ]
  },
  {
   "cell_type": "code",
   "execution_count": 115,
   "metadata": {},
   "outputs": [
    {
     "data": {
      "text/plain": [
       "<matplotlib.axes._subplots.AxesSubplot at 0x9664540908>"
      ]
     },
     "execution_count": 115,
     "metadata": {},
     "output_type": "execute_result"
    },
    {
     "data": {
      "image/png": "[encoded data removed]",
      "text/plain": [
       "<Figure size 1080x432 with 1 Axes>"
      ]
     },
     "metadata": {
      "needs_background": "light"
     },
     "output_type": "display_data"
    }
   ],
   "source": [
    "positionsWRTGenderPct.plot(kind='bar', stacked=True, figsize=[15,6], colormap='RdYlBu')"
   ]
  },
  {
   "cell_type": "code",
   "execution_count": 116,
   "metadata": {
    "scrolled": true
   },
   "outputs": [
    {
     "data": {
      "text/html": [
       "<div>\n",
       "<style scoped>\n",
       "    .dataframe tbody tr th:only-of-type {\n",
       "        vertical-align: middle;\n",
       "    }\n",
       "\n",
       "    .dataframe tbody tr th {\n",
       "        vertical-align: top;\n",
       "    }\n",
       "\n",
       "    .dataframe thead th {\n",
       "        text-align: right;\n",
       "    }\n",
       "</style>\n",
       "<table border=\"1\" class=\"dataframe\">\n",
       "  <thead>\n",
       "    <tr style=\"text-align: right;\">\n",
       "      <th>Gender</th>\n",
       "      <th>F</th>\n",
       "      <th>M</th>\n",
       "      <th>FemaleToMaleRatio</th>\n",
       "    </tr>\n",
       "    <tr>\n",
       "      <th>Position</th>\n",
       "      <th></th>\n",
       "      <th></th>\n",
       "      <th></th>\n",
       "    </tr>\n",
       "  </thead>\n",
       "  <tbody>\n",
       "    <tr>\n",
       "      <th>Area Sales Manager</th>\n",
       "      <td>12</td>\n",
       "      <td>14</td>\n",
       "      <td>0.857143</td>\n",
       "    </tr>\n",
       "    <tr>\n",
       "      <th>Database Administrator</th>\n",
       "      <td>4</td>\n",
       "      <td>1</td>\n",
       "      <td>4.000000</td>\n",
       "    </tr>\n",
       "    <tr>\n",
       "      <th>IT Support</th>\n",
       "      <td>5</td>\n",
       "      <td>3</td>\n",
       "      <td>1.666667</td>\n",
       "    </tr>\n",
       "    <tr>\n",
       "      <th>Network Engineer</th>\n",
       "      <td>2</td>\n",
       "      <td>3</td>\n",
       "      <td>0.666667</td>\n",
       "    </tr>\n",
       "    <tr>\n",
       "      <th>Production Manager</th>\n",
       "      <td>6</td>\n",
       "      <td>7</td>\n",
       "      <td>0.857143</td>\n",
       "    </tr>\n",
       "    <tr>\n",
       "      <th>Production Technician I</th>\n",
       "      <td>82</td>\n",
       "      <td>52</td>\n",
       "      <td>1.576923</td>\n",
       "    </tr>\n",
       "    <tr>\n",
       "      <th>Production Technician II</th>\n",
       "      <td>35</td>\n",
       "      <td>19</td>\n",
       "      <td>1.842105</td>\n",
       "    </tr>\n",
       "    <tr>\n",
       "      <th>Software Engineer</th>\n",
       "      <td>6</td>\n",
       "      <td>3</td>\n",
       "      <td>2.000000</td>\n",
       "    </tr>\n",
       "    <tr>\n",
       "      <th>Sr. Network Engineer</th>\n",
       "      <td>2</td>\n",
       "      <td>3</td>\n",
       "      <td>0.666667</td>\n",
       "    </tr>\n",
       "  </tbody>\n",
       "</table>\n",
       "</div>"
      ],
      "text/plain": [
       "Gender                     F   M  FemaleToMaleRatio\n",
       "Position                                           \n",
       "Area Sales Manager        12  14           0.857143\n",
       "Database Administrator     4   1           4.000000\n",
       "IT Support                 5   3           1.666667\n",
       "Network Engineer           2   3           0.666667\n",
       "Production Manager         6   7           0.857143\n",
       "Production Technician I   82  52           1.576923\n",
       "Production Technician II  35  19           1.842105\n",
       "Software Engineer          6   3           2.000000\n",
       "Sr. Network Engineer       2   3           0.666667"
      ]
     },
     "execution_count": 116,
     "metadata": {},
     "output_type": "execute_result"
    }
   ],
   "source": [
    "positionsWRTGender['FemaleToMaleRatio'] = positionsWRTGender.apply(lambda row: row['F']/row['M'], axis=1) \n",
    "positionsWRTGender"
   ]
  },
  {
   "cell_type": "markdown",
   "metadata": {},
   "source": [
    "# Doing Chi Test between Positions and Gender to find significant relationship"
   ]
  },
  {
   "cell_type": "code",
   "execution_count": 117,
   "metadata": {},
   "outputs": [
    {
     "data": {
      "text/html": [
       "<div>\n",
       "<style scoped>\n",
       "    .dataframe tbody tr th:only-of-type {\n",
       "        vertical-align: middle;\n",
       "    }\n",
       "\n",
       "    .dataframe tbody tr th {\n",
       "        vertical-align: top;\n",
       "    }\n",
       "\n",
       "    .dataframe thead th {\n",
       "        text-align: right;\n",
       "    }\n",
       "</style>\n",
       "<table border=\"1\" class=\"dataframe\">\n",
       "  <thead>\n",
       "    <tr style=\"text-align: right;\">\n",
       "      <th>Gender</th>\n",
       "      <th>F</th>\n",
       "      <th>M</th>\n",
       "    </tr>\n",
       "    <tr>\n",
       "      <th>Position</th>\n",
       "      <th></th>\n",
       "      <th></th>\n",
       "    </tr>\n",
       "  </thead>\n",
       "  <tbody>\n",
       "    <tr>\n",
       "      <th>Area Sales Manager</th>\n",
       "      <td>12</td>\n",
       "      <td>14</td>\n",
       "    </tr>\n",
       "    <tr>\n",
       "      <th>Database Administrator</th>\n",
       "      <td>4</td>\n",
       "      <td>1</td>\n",
       "    </tr>\n",
       "    <tr>\n",
       "      <th>IT Support</th>\n",
       "      <td>5</td>\n",
       "      <td>3</td>\n",
       "    </tr>\n",
       "    <tr>\n",
       "      <th>Network Engineer</th>\n",
       "      <td>2</td>\n",
       "      <td>3</td>\n",
       "    </tr>\n",
       "    <tr>\n",
       "      <th>Production Manager</th>\n",
       "      <td>6</td>\n",
       "      <td>7</td>\n",
       "    </tr>\n",
       "    <tr>\n",
       "      <th>Production Technician I</th>\n",
       "      <td>82</td>\n",
       "      <td>52</td>\n",
       "    </tr>\n",
       "    <tr>\n",
       "      <th>Production Technician II</th>\n",
       "      <td>35</td>\n",
       "      <td>19</td>\n",
       "    </tr>\n",
       "    <tr>\n",
       "      <th>Software Engineer</th>\n",
       "      <td>6</td>\n",
       "      <td>3</td>\n",
       "    </tr>\n",
       "    <tr>\n",
       "      <th>Sr. Network Engineer</th>\n",
       "      <td>2</td>\n",
       "      <td>3</td>\n",
       "    </tr>\n",
       "  </tbody>\n",
       "</table>\n",
       "</div>"
      ],
      "text/plain": [
       "Gender                     F   M\n",
       "Position                        \n",
       "Area Sales Manager        12  14\n",
       "Database Administrator     4   1\n",
       "IT Support                 5   3\n",
       "Network Engineer           2   3\n",
       "Production Manager         6   7\n",
       "Production Technician I   82  52\n",
       "Production Technician II  35  19\n",
       "Software Engineer          6   3\n",
       "Sr. Network Engineer       2   3"
      ]
     },
     "execution_count": 117,
     "metadata": {},
     "output_type": "execute_result"
    }
   ],
   "source": [
    "crosstabPosandGender = pd.crosstab(data_cat[\"Position\"], data_cat[\"Gender\"])\n",
    "crosstabPosandGender"
   ]
  },
  {
   "cell_type": "code",
   "execution_count": 118,
   "metadata": {},
   "outputs": [
    {
     "data": {
      "text/plain": [
       "(6.34475247757586,\n",
       " 0.608674296318483,\n",
       " 8,\n",
       " array([[15.45945946, 10.54054054],\n",
       "        [ 2.97297297,  2.02702703],\n",
       "        [ 4.75675676,  3.24324324],\n",
       "        [ 2.97297297,  2.02702703],\n",
       "        [ 7.72972973,  5.27027027],\n",
       "        [79.67567568, 54.32432432],\n",
       "        [32.10810811, 21.89189189],\n",
       "        [ 5.35135135,  3.64864865],\n",
       "        [ 2.97297297,  2.02702703]]))"
      ]
     },
     "execution_count": 118,
     "metadata": {},
     "output_type": "execute_result"
    }
   ],
   "source": [
    "stats.chi2_contingency(crosstabPosandGender)\n"
   ]
  },
  {
   "cell_type": "code",
   "execution_count": 119,
   "metadata": {},
   "outputs": [
    {
     "data": {
      "text/html": [
       "<div>\n",
       "<style scoped>\n",
       "    .dataframe tbody tr th:only-of-type {\n",
       "        vertical-align: middle;\n",
       "    }\n",
       "\n",
       "    .dataframe tbody tr th {\n",
       "        vertical-align: top;\n",
       "    }\n",
       "\n",
       "    .dataframe thead tr th {\n",
       "        text-align: left;\n",
       "    }\n",
       "\n",
       "    .dataframe thead tr:last-of-type th {\n",
       "        text-align: right;\n",
       "    }\n",
       "</style>\n",
       "<table border=\"1\" class=\"dataframe\">\n",
       "  <thead>\n",
       "    <tr>\n",
       "      <th></th>\n",
       "      <th colspan=\"3\" halign=\"left\">Gender</th>\n",
       "    </tr>\n",
       "    <tr>\n",
       "      <th>Gender</th>\n",
       "      <th>F</th>\n",
       "      <th>M</th>\n",
       "      <th>All</th>\n",
       "    </tr>\n",
       "    <tr>\n",
       "      <th>Position</th>\n",
       "      <th></th>\n",
       "      <th></th>\n",
       "      <th></th>\n",
       "    </tr>\n",
       "  </thead>\n",
       "  <tbody>\n",
       "    <tr>\n",
       "      <th>Area Sales Manager</th>\n",
       "      <td>4.63</td>\n",
       "      <td>5.41</td>\n",
       "      <td>10.04</td>\n",
       "    </tr>\n",
       "    <tr>\n",
       "      <th>Database Administrator</th>\n",
       "      <td>1.54</td>\n",
       "      <td>0.39</td>\n",
       "      <td>1.93</td>\n",
       "    </tr>\n",
       "    <tr>\n",
       "      <th>IT Support</th>\n",
       "      <td>1.93</td>\n",
       "      <td>1.16</td>\n",
       "      <td>3.09</td>\n",
       "    </tr>\n",
       "    <tr>\n",
       "      <th>Network Engineer</th>\n",
       "      <td>0.77</td>\n",
       "      <td>1.16</td>\n",
       "      <td>1.93</td>\n",
       "    </tr>\n",
       "    <tr>\n",
       "      <th>Production Manager</th>\n",
       "      <td>2.32</td>\n",
       "      <td>2.70</td>\n",
       "      <td>5.02</td>\n",
       "    </tr>\n",
       "    <tr>\n",
       "      <th>Production Technician I</th>\n",
       "      <td>31.66</td>\n",
       "      <td>20.08</td>\n",
       "      <td>51.74</td>\n",
       "    </tr>\n",
       "    <tr>\n",
       "      <th>Production Technician II</th>\n",
       "      <td>13.51</td>\n",
       "      <td>7.34</td>\n",
       "      <td>20.85</td>\n",
       "    </tr>\n",
       "    <tr>\n",
       "      <th>Software Engineer</th>\n",
       "      <td>2.32</td>\n",
       "      <td>1.16</td>\n",
       "      <td>3.47</td>\n",
       "    </tr>\n",
       "    <tr>\n",
       "      <th>Sr. Network Engineer</th>\n",
       "      <td>0.77</td>\n",
       "      <td>1.16</td>\n",
       "      <td>1.93</td>\n",
       "    </tr>\n",
       "    <tr>\n",
       "      <th>All</th>\n",
       "      <td>59.46</td>\n",
       "      <td>40.54</td>\n",
       "      <td>100.00</td>\n",
       "    </tr>\n",
       "  </tbody>\n",
       "</table>\n",
       "</div>"
      ],
      "text/plain": [
       "                         Gender               \n",
       "Gender                        F      M     All\n",
       "Position                                      \n",
       "Area Sales Manager         4.63   5.41   10.04\n",
       "Database Administrator     1.54   0.39    1.93\n",
       "IT Support                 1.93   1.16    3.09\n",
       "Network Engineer           0.77   1.16    1.93\n",
       "Production Manager         2.32   2.70    5.02\n",
       "Production Technician I   31.66  20.08   51.74\n",
       "Production Technician II  13.51   7.34   20.85\n",
       "Software Engineer          2.32   1.16    3.47\n",
       "Sr. Network Engineer       0.77   1.16    1.93\n",
       "All                       59.46  40.54  100.00"
      ]
     },
     "execution_count": 119,
     "metadata": {},
     "output_type": "execute_result"
    }
   ],
   "source": [
    "crosstabPosandGender, test_resultsPosandGender , expected = rp.crosstab(data_cat[\"Position\"], data_cat[\"Gender\"],\n",
    "                                               test= \"chi-square\",\n",
    "                                               expected_freqs= True,\n",
    "                                               prop= \"cell\")\n",
    "\n",
    "crosstabPosandGender"
   ]
  },
  {
   "cell_type": "code",
   "execution_count": 120,
   "metadata": {},
   "outputs": [
    {
     "data": {
      "text/html": [
       "<div>\n",
       "<style scoped>\n",
       "    .dataframe tbody tr th:only-of-type {\n",
       "        vertical-align: middle;\n",
       "    }\n",
       "\n",
       "    .dataframe tbody tr th {\n",
       "        vertical-align: top;\n",
       "    }\n",
       "\n",
       "    .dataframe thead th {\n",
       "        text-align: right;\n",
       "    }\n",
       "</style>\n",
       "<table border=\"1\" class=\"dataframe\">\n",
       "  <thead>\n",
       "    <tr style=\"text-align: right;\">\n",
       "      <th></th>\n",
       "      <th>Chi-square test</th>\n",
       "      <th>results</th>\n",
       "    </tr>\n",
       "  </thead>\n",
       "  <tbody>\n",
       "    <tr>\n",
       "      <th>0</th>\n",
       "      <td>Pearson Chi-square ( 8.0) =</td>\n",
       "      <td>6.3448</td>\n",
       "    </tr>\n",
       "    <tr>\n",
       "      <th>1</th>\n",
       "      <td>p-value =</td>\n",
       "      <td>0.6087</td>\n",
       "    </tr>\n",
       "    <tr>\n",
       "      <th>2</th>\n",
       "      <td>Cramer's V =</td>\n",
       "      <td>0.1565</td>\n",
       "    </tr>\n",
       "  </tbody>\n",
       "</table>\n",
       "</div>"
      ],
      "text/plain": [
       "                Chi-square test  results\n",
       "0  Pearson Chi-square ( 8.0) =    6.3448\n",
       "1                    p-value =    0.6087\n",
       "2                 Cramer's V =    0.1565"
      ]
     },
     "execution_count": 120,
     "metadata": {},
     "output_type": "execute_result"
    }
   ],
   "source": [
    "test_resultsPosandGender"
   ]
  },
  {
   "cell_type": "code",
   "execution_count": null,
   "metadata": {},
   "outputs": [],
   "source": []
  },
  {
   "cell_type": "code",
   "execution_count": null,
   "metadata": {},
   "outputs": [],
   "source": []
  },
  {
   "cell_type": "code",
   "execution_count": null,
   "metadata": {},
   "outputs": [],
   "source": []
  }
 ],
 "metadata": {
  "kernelspec": {
   "display_name": "Python 3",
   "language": "python",
   "name": "python3"
  },
  "language_info": {
   "codemirror_mode": {
    "name": "ipython",
    "version": 3
   },
   "file_extension": ".py",
   "mimetype": "text/x-python",
   "name": "python",
   "nbconvert_exporter": "python",
   "pygments_lexer": "ipython3",
   "version": "3.7.6"
  }
 },
 "nbformat": 4,
 "nbformat_minor": 4
}
